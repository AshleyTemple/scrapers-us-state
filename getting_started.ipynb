{
 "cells": [
  {
   "cell_type": "markdown",
   "metadata": {},
   "source": [
    "# Setting up your development environ"
   ]
  },
  {
   "cell_type": "markdown",
   "metadata": {},
   "source": [
    "1. Clone the state scraper repo from Github\n",
    "\n",
    "  ```\n",
    "  git clone https://github.com/influence-usa/scrapers-us-state.git\n",
    "  ```\n",
    "\n",
    "2. Make a new virtualenv\n",
    "\n",
    "  ```\n",
    "  mkvirtualenv --python=$(which python3)\n",
    "  ```\n",
    "  \n",
    "3. Use `pip` to install requirements\n",
    "\n",
    "  ```\n",
    "  pip install -r requirements.txt\n",
    "  ```\n",
    "  \n",
    "4. If you don't see a folder for the state you're working on, run the following:\n",
    "\n",
    "  ```\n",
    "    (iusa-scrape)$>pupa init arizona\n",
    "    no pupa_settings on path, using defaults\n",
    "    jurisdiction name (e.g. City of Seattle): Arizona\n",
    "    division id (e.g. ocd-division/country:us/state:wa/place:seattle): ocd-division/country:us/state:az\n",
    "    classification (can be: government, legislature, executive, school_system): government\n",
    "    official URL: http://www.az.gov/\n",
    "    create disclosures scraper? [Y/n]: Y\n",
    "    create bills scraper? [y/N]: n\n",
    "    create events scraper? [y/N]: y\n",
    "    create votes scraper? [y/N]: n\n",
    "    create people scraper? [y/N]: y\n",
    "  ```\n",
    "\n",
    "...what this did was create a new folder for the state. In this example, the state was Arizona (`arizona`).\n",
    "\n",
    "  ```\n",
    "    (iusa-scrape)$>tree\n",
    "    .\n",
    "    ├── ak\n",
    "    │   └── __init__.py\n",
    "    ├── al\n",
    "    │   ├── __init__.py\n",
    "    │   └── people.py\n",
    "    ├── arizona\n",
    "    │   ├── disclosures.py\n",
    "    │   ├── events.py\n",
    "    │   ├── __init__.py\n",
    "    │   └── people.py\n",
    "    ├── md\n",
    "    │   └── __init__.py\n",
    "    ├── README.md\n",
    "    ├── requirements.txt\n",
    "    ├── Untitled.ipynb\n",
    "    └── utils\n",
    "        ├── __init__.py\n",
    "        └── lxmlize.py\n",
    "  ```\n",
    "  \n",
    "To follow the broader pupa convention, we'll change the directory name to `az`:\n",
    "\n",
    "```\n",
    "    (iusa-scrape)$>mv arizona az\n",
    "    (iusa-scrape)$>tree\n",
    "    tree\n",
    "    .\n",
    "    ├── ak\n",
    "    │   └── __init__.py\n",
    "    ├── al\n",
    "    │   ├── __init__.py\n",
    "    │   └── people.py\n",
    "    ├── az\n",
    "    │   ├── disclosures.py\n",
    "    │   ├── events.py\n",
    "    │   ├── __init__.py\n",
    "    │   └── people.py\n",
    "    ├── md\n",
    "    │   └── __init__.py\n",
    "    ├── README.md\n",
    "    ├── requirements.txt\n",
    "    ├── Untitled.ipynb\n",
    "    └── utils\n",
    "        ├── __init__.py\n",
    "        └── lxmlize.py\n",
    "\n",
    "5 directories, 13 files\n",
    "```\n",
    "  \n",
    "Because we told it to in teh questions asked above, it also created the starter code for our scrapers: there's one each for disclosures, events and people.\n",
    "\n",
    "Also interesting is the `__init__.py` file in our state's directory.  It used the answers to our questions to build a `Jurisdiction` object that represents the state government:\n",
    "\n",
    "```\n",
    "class Arizona(Jurisdiction):\n",
    "    division_id = \"ocd-division/country:us/state:az\"\n",
    "    classification = \"government\"\n",
    "    name = \"Arizona\"\n",
    "    url = \"https://az.gov/\"\n",
    "    scrapers = {\n",
    "        \"events\": ArizonaEventScraper,\n",
    "        \"people\": ArizonaPersonScraper,\n",
    "        \"disclosures\": ArizonaDisclosureScraper,\n",
    "    }\n",
    "\n",
    "    def get_organizations(self):\n",
    "        yield Organization(name=None, classification=None)\n",
    "```"
   ]
  },
  {
   "cell_type": "markdown",
   "metadata": {},
   "source": [
    "# Version control"
   ]
  },
  {
   "cell_type": "markdown",
   "metadata": {},
   "source": [
    "This is a good time to add and commit our changes so far.\n",
    "\n",
    "```\n",
    "(iusa-scrape)$>git add az\n",
    "(iusa-scrape)$>git commit -m \"initialized arizona\"\n",
    "[master 3e622ef] initialized arizona\n",
    " 4 files changed, 47 insertions(+)\n",
    " create mode 100644 az/__init__.py\n",
    " create mode 100644 az/disclosures.py\n",
    " create mode 100644 az/events.py\n",
    " create mode 100644 az/people.py\n",
    " ```"
   ]
  },
  {
   "cell_type": "markdown",
   "metadata": {},
   "source": [
    "# Where is the data?"
   ]
  },
  {
   "cell_type": "markdown",
   "metadata": {},
   "source": [
    "# Creating global authority organizations"
   ]
  },
  {
   "cell_type": "markdown",
   "metadata": {},
   "source": [
    "## Create the Secretary of State"
   ]
  },
  {
   "cell_type": "markdown",
   "metadata": {},
   "source": [
    "The `get_organizations` method of the `Jurisdiction` class lets us define some global organizations for all of the data that we'll be scraping from Arizona's sites. For campaign finance disclosures, we'll have to define the Arizona Secretary of State's Office.\n",
    "\n",
    "```\n",
    "def get_organizations(self):                                        \n",
    "```\n",
    "\n",
    "First, initialize using the `Organization` class.\n",
    "\n",
    "```\n",
    "    secretary_of_state = Organization(                                    \n",
    "        name=\"Office of the Secretary of State, State of Arizona\",        \n",
    "        classification=\"office\"                                           \n",
    "    )                                                               ```\n",
    "    \n",
    "Here, we're able to set particular attributes using `kwargs`.  To get a sense of which attributes you can set at this point, check out the [source](https://github.com/influence-usa/pupa/blob/disclosures/pupa/scrape/popolo.py#L132-L182).\n",
    "\n",
    "Now, we can add other attribtues, using the helper methods found on the `Organization` class:\n",
    "\n",
    "```\n",
    "    secretary_of_state.add_contact_detail(                                \n",
    "        type=\"voice\",                                                     \n",
    "        value=\"602-542-4285\"                                              \n",
    "    )                    \n",
    "\n",
    "    secretary_of_state.add_contact_detail(                                \n",
    "        type=\"address\",                                                   \n",
    "        value=\"1700 W Washington St Fl 7, Phoenix AZ 85007-2808\"          \n",
    "    )                                                                     \n",
    "    secretary_of_state.add_link(                                          \n",
    "        url=\"http://www.azsos.gov/\",                                      \n",
    "        note=\"Home page\"                                                  \n",
    "    )                                                                     \n",
    "```\n",
    "\n",
    "We should add the organization we've created to the `Jurisdiction` object as a semi-private property. This is useful, beacuse the `Jurisdiction` object will essentially always be accessible to all of our scrapers. Whenever we want to refer to the AZ Secretary of State, we can always access it from `Arizona` jurisdiction object.\n",
    "\n",
    "```\n",
    "    self._secretary_of_state = secretary_of_state                   \n",
    "```\n",
    "\n",
    "Finally, yield the organization we created. This is beacause `get_organizations` is actually the first scraper that we'll run each time we run Arizona scrapers of any kind.\n",
    "\n",
    "```\n",
    "    yield secretary_of_state                                          \n",
    "```"
   ]
  },
  {
   "cell_type": "markdown",
   "metadata": {},
   "source": [
    "## Test what we have so far!"
   ]
  },
  {
   "cell_type": "markdown",
   "metadata": {},
   "source": [
    "Cool, let's try out what we have so far.  From the project root (`scrapers-us-state`), run the command:\n",
    "\n",
    "```\n",
    "(iusa-scrape)$>pupa update az --scrape\n",
    "```\n",
    "\n",
    "This will throw a `ScrapeError` because we haven't written any of the main scrapers yet, but before it does we'll see that it creates our `Jurisdiction` object, and the `Organization` representing teh Arizona Secretary of State.\n",
    "\n",
    "```\n",
    "no pupa_settings on path, using defaults\n",
    "az (scrape)\n",
    "  events: {}\n",
    "  people: {}\n",
    "  disclosures: {}\n",
    "Not checking sessions...\n",
    "13:30:10 INFO pupa: save jurisdiction Arizona as jurisdiction_ocd-jurisdiction-country:us-state:az-government.json\n",
    "13:30:10 INFO pupa: save organization Office of the Secretary of State, State of Arizona as organization_1e330580-e20b-11e4-a4f5-e90fe0697b56.json\n",
    "```"
   ]
  },
  {
   "cell_type": "markdown",
   "metadata": {},
   "source": [
    "# Starting a new scraper"
   ]
  },
  {
   "cell_type": "markdown",
   "metadata": {},
   "source": [
    "Now it's time to start writing the real meat and potatoes of our scraping code."
   ]
  },
  {
   "cell_type": "markdown",
   "metadata": {},
   "source": [
    "## Locate the source of the data"
   ]
  },
  {
   "cell_type": "markdown",
   "metadata": {},
   "source": [
    "Check out the [Big Board](https://docs.google.com/spreadsheets/d/18-MvVJXg8TkUUNhtBmWoCEPUWEMf7F6-YVV6x7CWrg4/pubhtml) to see which URL you should use to start. Explore the links on that page until you find the data you're looking for.\n",
    "\n",
    "For this example, we'll look at the Arizona Super PAC list. "
   ]
  },
  {
   "cell_type": "code",
   "execution_count": 1,
   "metadata": {
    "collapsed": true
   },
   "outputs": [],
   "source": [
    "PAC_LIST_URL = \"http://apps.azsos.gov/apps/election/cfs/search/SuperPACList.aspx\""
   ]
  },
  {
   "cell_type": "markdown",
   "metadata": {},
   "source": [
    "## Adding new scrape routines"
   ]
  },
  {
   "cell_type": "markdown",
   "metadata": {},
   "source": [
    "We're going to add our code to `az/disclosures.py`. \n",
    "\n",
    "```\n",
    "class ArizonaDisclosureScraper(Scraper):\n",
    "                                           \n",
    "    def scrape_super_pacs(self):           \n",
    "        pass                               \n",
    "                                           \n",
    "    def scrape(self):                      \n",
    "        # needs to be implemented          \n",
    "        yield from self.scrape_super_pacs()\n",
    "```\n",
    "\n",
    "When we're through, the `pupa` CLI commands will call the `scrape` command. It's good practice to follow this pattern to break down that command into a series of subroutines, one for each type of data you're returning. The pupa software actually doesn't care, though, it just expects a stream of Open Civic Data scrape objects (`Person`, `Organizaton`, `Event`, etc)."
   ]
  },
  {
   "cell_type": "markdown",
   "metadata": {},
   "source": [
    "## Developing your scraper"
   ]
  },
  {
   "cell_type": "markdown",
   "metadata": {},
   "source": [
    "At this point, you might want to move to a REPL (or, even better, to an IPython notebook) so that you can start figuring out how to obtain the target data. You'll \n",
    "\n",
    "In this example, things are fairly straightforward.  There's a `<table>` element in the middle of the page that has all the information we need to generate the `Organization` objects that we want."
   ]
  },
  {
   "cell_type": "code",
   "execution_count": 9,
   "metadata": {
    "collapsed": false
   },
   "outputs": [],
   "source": [
    "from lxml import etree\n",
    "from lxml.html import HTMLParser\n",
    "\n",
    "import scrapelib"
   ]
  },
  {
   "cell_type": "markdown",
   "metadata": {},
   "source": [
    "The scraper we'll eventually write is a subclass of `scrapelib.Scraper()` (see the `Scraper` class in [pupa/pupa/scrape/base.py](https://github.com/influence-usa/pupa/blob/disclosures/pupa/scrape/base.py)), and working with the parent class will be close enough to reality when we're undergoing trial and error at first."
   ]
  },
  {
   "cell_type": "code",
   "execution_count": 89,
   "metadata": {
    "collapsed": true
   },
   "outputs": [],
   "source": [
    "my_scraper = scrapelib.Scraper()"
   ]
  },
  {
   "cell_type": "code",
   "execution_count": 90,
   "metadata": {
    "collapsed": true
   },
   "outputs": [],
   "source": [
    "resp = my_scraper.urlretrieve(PAC_LIST_URL)"
   ]
  },
  {
   "cell_type": "code",
   "execution_count": 13,
   "metadata": {
    "collapsed": false
   },
   "outputs": [
    {
     "data": {
      "text/plain": [
       "'<!DOCTYPE html PUBLIC \"-//W3C//DTD XHTML 1.0 Transitional//EN\" \"http://www.w3.org/TR/xhtml1/DTD/xhtml1-transitional.dtd\">\\n<!-- saved from url=(0064)http://apps.azsos.gov/apps/election/cfs/search/SuperPACList.aspx -->\\n<html xmlns=\"http://www.w3.org/1999/xhtml\"><head id=\"ctl00_ctl00_PageHead\"><meta http-equiv=\"Content-Type\" content=\"text/html; charset=UTF-8\"><title>\\n\\tSuperPAC Committees List\\n</title>\\n    \\n<meta http-equiv=\"Content-Style-Type\" content=\"text/css\"><meta name=\"title\" content=\"Arizona Secretary of State\"><meta name=\"description\" content=\"Secretary of State\"><meta name=\"originatorJurisdiction\" content=\"Arizona Secretary of State\"><meta name=\"govType\" content=\"State Government\"><meta name=\"medium\" content=\"Web page\"><meta name=\"accessConstraints\" content=\"none\"><link href=\"./SuperPACList.aspx_files/apps-style-newazsos.css\" rel=\"stylesheet\" type=\"text/css\" media=\"all\"><link href=\"./SuperPACList.aspx_files/SiteMasterStyles.css\" rel=\"stylesheet\" type=\"text/css\" media=\"all\"><link href=\"./SuperPACList.aspx_files/default.css\" type=\"text/css\" rel=\"stylesheet\"><style type=\"text/css\"></style></head>\\n<body id=\"ctl00_ctl00_mybody\">\\n    <div id=\"header-wrapper\">\\n    <div id=\"header-logo-wrapper\" style=\"padding-top:15px;\">\\n\\t\\t    <a href=\"http://www.azsos.gov/\" title=\"Arizona Secretary of State\"><img src=\"./SuperPACList.aspx_files/site-logo.png\" alt=\"site logo\" style=\"float:left;\"></a>\\n\\t\\t    <div id=\"toplinks\" style=\"float:right;\">\\n\\t<span style=\"float:right;\"><a href=\"http://www.azsos.gov/contact\" title=\"Email Us\" target=\"_blank\"><img alt=\"email icon\" src=\"./SuperPACList.aspx_files/email.png\" style=\"height:32px;padding-top:2px;padding-right:5px;\"></a><a href=\"https://twitter.com/SecretaryReagan\" title=\"Follow us on Twitter\" target=\"_blank\"><img alt=\"twitter icon\" src=\"./SuperPACList.aspx_files/twitter.png\" style=\"height:32px;padding-top:2px;padding-right:5px;\"></a><a href=\"https://www.facebook.com/AZSecretaryofState\" title=\"Follow us on Facebook\" target=\"_blank\"><img alt=\"facebook icon\" src=\"./SuperPACList.aspx_files/facebook.png\" style=\"height:32px;padding-top:2px;padding-right:5px;\"></a><a href=\"http://www.youtube.com/user/AZSecState\" title=\"Watch us on YouTube\" target=\"_blank\"><img alt=\"youtube icon\" src=\"./SuperPACList.aspx_files/youtube.png\" style=\"height:32px;padding-top:2px;\"></a><br><a href=\"http://az.gov/\" title=\"Visit the official website of the State of Arizona\" target=\"_blank\"><img alt=\"az.gov logo\" src=\"./SuperPACList.aspx_files/azdotgov-logo.png\" style=\"height:32px;padding-top:9px;float:right;\" class=\"hide-on-mobile\"></a></span>\\n\\t\\t    </div>\\n    </div>\\n</div>\\t\\t\\n<div id=\"navigation\">\\n<div id=\"primary_nav_wrap\">\\n<ul>\\n\\t<li class=\"current-menu-item\"><a href=\"http://www.azsos.gov/elections\">Elections</a>\\n\\t\\t<ul>\\n\\t\\t\\t<li><a href=\"http://www.azsos.gov/elections/elections-calendar-upcoming-events\">Elections Calendar &amp; Upcoming Events</a></li>\\n\\t\\t\\t<li><a href=\"http://www.azsos.gov/elections/voting-election\">Voting In This Election</a></li>\\n\\t\\t\\t<li><a href=\"http://www.azsos.gov/elections/campaign-finance-reporting\">Campaign Finance &amp; Reporting</a></li>\\n\\t\\t\\t<li><a href=\"http://www.azsos.gov/elections/running-office\">Running for Office</a></li>\\n\\t\\t\\t<li><a href=\"http://www.azsos.gov/equal/\">Sign a Candidate Petition or Give $5 Qualifying Petition</a></li>\\n\\t\\t\\t<li><a href=\"http://www.azsos.gov/elections/information-about-recognized-political-parties\">Information about Recognized Political Parties</a></li>\\n\\t\\t\\t<li><a href=\"http://www.azsos.gov/elections/initiative-referendum-and-recall\">Initiative, Referendum &amp; Recall</a></li>\\n\\t\\t\\t<li><a href=\"http://www.azsos.gov/elections/requirements-paid-non-resident-circulators\">Requirements for Paid &amp; Non-Resident Circulators</a></li>\\n\\t\\t\\t<li><a href=\"http://www.azsos.gov/elections/voter-registration-historical-election-data\">Voter Registration &amp; Historical Data</a></li>\\n\\t\\t\\t<li><a href=\"http://www.azsos.gov/elections/arizona-election-laws-publications\">Arizona Election Laws &amp; Publications</a></li>\\n\\t\\t\\t<li><a href=\"http://www.azsos.gov/elections/lobbyists\">Lobbyists</a></li>\\t\\t\\t\\n\\t\\t</ul>\\n\\t</li>\\n\\t<li><a href=\"http://www.azsos.gov/business\">Business</a>\\n\\t\\t<ul>\\n\\t\\t\\t<li><a href=\"http://www.azsos.gov/business/trade-names-and-trademarks\" title=\"\">Trade Names &amp; Trademarks</a></li>\\n\\t\\t\\t<li><a href=\"http://www.azsos.gov/business/notary-public\">Notary Public</a></li>\\n\\t\\t\\t<li><a href=\"http://www.azsos.gov/business/charities\">Veterans Charities Organizations</a></li>\\n\\t\\t\\t<li><a href=\"http://www.azsos.gov/business/uniform-commercial-code-ucc\">Uniform Commercial Code (UCC)</a></li>\\n\\t\\t\\t<li><a href=\"http://www.azsos.gov/business/partnerships\">Partnerships</a></li>\\n\\t\\t\\t<li><a href=\"http://www.azsos.gov/business/telephonic-seller-registration\">Telephonic Seller Registration</a></li>\\n\\t\\t\\t<li><a href=\"http://www.azsos.gov/business/corporations\">Corporations</a></li>\\n\\t\\t\\t<li><a href=\"http://www.azsos.gov/business/professional-employment-organizations-peo\">Professional Employment Organizations (PEO)</a></li>\\n\\t\\t\\t<li><a href=\"http://www.azsos.gov/business/dance-studios\">Dance Studios</a></li>\\n\\t\\t</ul>\\n\\t</li>\\n\\t<li><a href=\"http://www.azsos.gov/services\">Services</a>\\n\\t\\t<ul>\\n\\t\\t\\t<li><a href=\"http://www.azsos.gov/services/acp\">Address Confidentiality Program</a></li>\\n\\t\\t\\t<li><a href=\"http://www.azsos.gov/services/authentication-and-apostille\">Document Authentication and Apostille</a></li>\\n\\t\\t\\t<li><a href=\"http://www.azsos.gov/services/advanced-directives\">Advanced Directives</a></li>\\n\\t\\t\\t<li><a href=\"http://www.azsos.gov/services/athlete-agents\">Athlete Agents</a></li>\\n\\t\\t\\t<li><a href=\"http://www.azsos.gov/services/legislative-filings\">Legislative Filings</a></li>\\n\\t\\t\\t<li><a href=\"http://www.azsos.gov/services/public-information\">Public Information</a></li>\\n\\t\\t\\t<li><a href=\"http://www.azsos.gov/services/out-state-landlord-agents-service\">Out-of-State Landlord Agents for Service</a></li>\\n\\t\\t\\t<li><a href=\"http://www.azsos.gov/services/no-trespass-registration-and-public-notice\">No Trespass Registration &amp; Public Notice</a></li>\\n\\t\\t</ul>\\n\\t</li>\\n\\t<li><a href=\"http://www.azsos.gov/rules\">Rules</a>\\n\\t\\t<ul>\\n\\t\\t\\t<li><a href=\"http://www.azsos.gov/rules/arizona-administrative-code\">Arizona Administrative Code</a></li>\\n\\t\\t\\t<li><a href=\"http://www.azsos.gov/rules/arizona-administrative-register\">Arizona Administrative Register</a></li>\\n\\t\\t\\t<li><a href=\"http://www.azsos.gov/rules/semiannual-index\">Semiannual Index</a></li>\\n\\t\\t\\t<li><a href=\"http://www.azsos.gov/rules/annual-regulatory-agenda\">Annual Regulatory Agenda</a></li>\\n\\t\\t</ul>\\n\\t</li>\\n\\t<li><a href=\"http://www.azlibrary.gov/\">State Library</a>\\n\\t\\t\\t<ul>\\n\\t\\t\\t<li><a href=\"http://www.azlibrary.gov/talkingbooks\">Arizona Talking Book Library</a></li>\\n\\t\\t\\t<li><a href=\"http://www.azlibrary.gov/sla\">State Library of Arizona</a></li>\\n\\t\\t\\t<li><a href=\"http://www.azlibrary.gov/azcm\">Arizona Capitol Museum</a></li>\\n\\t\\t\\t<li><a href=\"http://www.azlibrary.gov/arm\">Archives &amp; Records Management</a></li>\\n\\t\\t\\t<li><a href=\"http://www.azlibrary.gov/libdev\">Library Development</a></li>\\n\\t\\t\\t<li><a href=\"http://www.azlibrary.gov/about\">About State Library</a></li>\\t\\t\\t\\n\\t\\t</ul>\\n\\n\\t</li>\\t\\n\\t<li><a href=\"http://www.azsos.gov/about-office\">About the Office</a>\\n\\t\\t<ul>\\n\\t\\t\\t<li><a href=\"http://www.azsos.gov/about-office/about-secretary\">About the Secretary</a></li>\\n\\t\\t\\t<li><a href=\"http://www.azsos.gov/about-office/secretaries-since-statehood\">Secretaries Since Statehood</a></li>\\n\\t\\t\\t<li><a href=\"http://www.azsos.gov/events\">Current and Upcoming Events</a></li>\\n\\t\\t\\t<li><a href=\"http://www.azsos.gov/about-office/media-center\">Media Center</a></li>\\n\\t\\t\\t<li><a href=\"http://www.azsos.gov/about-office/great-seal-arizona\">State Seal</a></li>\\n\\t\\t\\t<li><a href=\"http://www.azsos.gov/about-office/annual-report\">Annual Report</a></li>\\n\\t\\t\\t<li><a href=\"http://www.azsos.gov/about-office/executive-staff\">Executive Staff</a></li>\\n\\t\\t\\t<li><a href=\"http://www.azsos.gov/about-office/contact-us\">Contact Us</a></li>\\n\\t\\t</ul>\\n\\t</li>\\n\\t\\n</ul>\\n   \\n\\t\\t</div>\\n\\t\\t\\n \\n\\t\\t</div>\\n\\n    <div class=\"content_wrapper\">\\n        <div id=\"main1\">\\n            <div id=\"main2\">\\n                <form name=\"aspnetForm\" method=\"post\" action=\"./SuperPACList.aspx_files/SuperPACList.aspx.html\" id=\"aspnetForm\">\\n<div>\\n<input type=\"hidden\" name=\"ctl00_ctl00_ScriptManager1_HiddenField\" id=\"ctl00_ctl00_ScriptManager1_HiddenField\" value=\"\">\\n<input type=\"hidden\" name=\"__EVENTTARGET\" id=\"__EVENTTARGET\" value=\"\">\\n<input type=\"hidden\" name=\"__EVENTARGUMENT\" id=\"__EVENTARGUMENT\" value=\"\">\\n<input type=\"hidden\" name=\"__VIEWSTATEGUID\" id=\"__VIEWSTATEGUID\" value=\"f47240d8-3ade-42c7-8b41-1d99bba4fcae\">\\n<input type=\"hidden\" name=\"__VIEWSTATE\" id=\"\\n__VIEWSTATE\" value=\"\">\\n</div>\\n\\n<script type=\"text/javascript\">\\n//<![CDATA[\\nvar theForm = document.forms[\\'aspnetForm\\'];\\nfunction __doPostBack(eventTarget, eventArgument) {\\n    if (!theForm.onsubmit || (theForm.onsubmit() != false)) {\\n        theForm.__EVENTTARGET.value = eventTarget;\\n        theForm.__EVENTARGUMENT.value = eventArgument;\\n        theForm.submit();\\n    }\\n}\\n//]]>\\n</script>\\n\\n\\n<script src=\"./SuperPACList.aspx_files/WebResource.axd\" type=\"text/javascript\"></script>\\n\\n\\n<script src=\"./SuperPACList.aspx_files/ScriptResource.axd\" type=\"text/javascript\"></script>\\n<script type=\"text/javascript\">\\n//<![CDATA[\\nif (typeof(Sys) === \\'undefined\\') throw new Error(\\'ASP.NET Ajax client-side framework failed to load.\\');\\n//]]>\\n</script>\\n\\n<script src=\"./SuperPACList.aspx_files/ScriptResource(1).axd\" type=\"text/javascript\"></script>\\n                    <script type=\"text/javascript\">\\n//<![CDATA[\\nSys.WebForms.PageRequestManager._initialize(\\'ctl00$ctl00$ScriptManager1\\', document.getElementById(\\'aspnetForm\\'));\\nSys.WebForms.PageRequestManager.getInstance()._updateControls([], [\\'ctl00$ctl00$ScriptManager1\\'], [], 90);\\n//]]>\\n</script>\\n<input type=\"hidden\" name=\"ctl00$ctl00$ScriptManager1\" id=\"ctl00_ctl00_ScriptManager1\">\\n                    <div id=\"right_column\">\\n                        \\n                    </div>\\n\\n                    \\n                    <div id=\"content\">\\n                        <table width=\"100%\" cellpadding=\"0\" cellspacing=\"0\" border=\"0\">\\n                            <tbody><tr>\\n                                <td id=\"ctl00_ctl00_PageHeadingCell\" class=\"pagetitle\">\\n                                    <script type=\"text/javascript\">document.write(document.title)</script>SuperPAC Committees List\\n                                </td>\\n                                <td class=\"pagetitlehelp\" id=\"four\">\\n                                    \\n                                </td>\\n                            </tr>\\n                        </tbody></table>\\n                        <div id=\"ctl00_ctl00_MainPanel\">\\n\\t\\n                            \\n    \\n    \\n\\n<table cellpadding=\"8\" class=\"thinborder\">\\n<tbody><tr><th>Filer ID</th><th>Name &amp; Address</th> <th>Phone #</th><th>Begin Date</th><th>End Date</th></tr>\\n\\n<tr>\\n\\n<td>1066</td>\\n<td>AEA FUND FOR PUBLIC EDUCATION (FORMERLY) AZ PAC (AZ EDUCATION ASSN PAC)<br>345 E PALM LN<br>PHOENIX, AZ 85004 </td>\\n<td>(602) 264-1774</td>\\n<td>06/09/2014</td>\\n<td>06/08/2018</td>\\n</tr>\\n\\n<tr>\\n\\n<td>1354</td>\\n<td>AFSCME PEOPLE<br>1625 L ST NW<br>WASHINGTON, DC 20036 </td>\\n<td>(202) 429-1088</td>\\n<td>04/02/2014</td>\\n<td>04/01/2018</td>\\n</tr>\\n\\n<tr>\\n\\n<td>200602733</td>\\n<td>ARIZONA CHAMBER POLITICAL ACTION COMMITTEE<br>3200 N CENTRAL AVE, STE 1125<br>PHOENIX, AZ 85012 </td>\\n<td>(602) 248-9172</td>\\n<td>02/14/2014</td>\\n<td>02/13/2018</td>\\n</tr>\\n\\n<tr>\\n\\n<td>200602848</td>\\n<td>ARIZONA FAMILIES UNITED FOR STRONG COMMUNITIES- PROJECT OF SEIU COPE<br>3707 N 7TH ST, STE 100<br>PHOENIX, AZ 85014 </td>\\n<td>(602) 279-8016</td>\\n<td>07/21/2014</td>\\n<td>07/20/2018</td>\\n</tr>\\n\\n<tr>\\n\\n<td>201000081</td>\\n<td>Arizona List P.A.C.<br>PO BOX 42294<br>TUCSON, AZ 85733 </td>\\n<td>(520) 327-0520</td>\\n<td>01/25/2015</td>\\n<td>01/24/2019</td>\\n</tr>\\n\\n<tr>\\n\\n<td>1100</td>\\n<td>Arizona Lodging &amp; Tourism Super PAC<br>1240 E MISSOURI AVE<br>PHOENIX, AZ 85014 </td>\\n<td>(602) 604-0729</td>\\n<td>05/15/2013</td>\\n<td>05/14/2015</td>\\n</tr>\\n\\n<tr>\\n\\n<td>1227</td>\\n<td>Arizona Pipe Trades 469<br>3109 N 24TH ST<br>PHOENIX, AZ 85016 </td>\\n<td>(602) 626-8805</td>\\n<td>02/10/2014</td>\\n<td>02/09/2018</td>\\n</tr>\\n\\n<tr>\\n\\n<td>1065</td>\\n<td>AZ DENTAL POLITICAL ACTION COMMITTEE<br>3193 N DRINKWATER BLVD<br>SCOTTSDALE, AZ 85251 </td>\\n<td>(480) 344-5777</td>\\n<td>12/15/2013</td>\\n<td>12/14/2017</td>\\n</tr>\\n\\n<tr>\\n\\n<td>1129</td>\\n<td>AZ MULTIHOUSING ASSN PAC<br>818 N 1ST ST<br>PHOENIX, AZ 85004 </td>\\n<td>(602) 296-6200</td>\\n<td>12/05/2013</td>\\n<td>12/04/2017</td>\\n</tr>\\n\\n<tr>\\n\\n<td>2109</td>\\n<td>BNSF Railway Company RAILPAC<br>PO BOX 961039<br>FORT WORTH, TX 76161 </td>\\n<td>(202) 347-8662</td>\\n<td>10/16/2014</td>\\n<td>10/15/2018</td>\\n</tr>\\n\\n<tr>\\n\\n<td>200002272</td>\\n<td>CWA COMMUNICATIONS WORKERS OF AMERICA /AZ COMMITTEE  ON POLITICAL EDUCATION (COPE)<br>1951 W CAMELBACK RD, STE 335<br>PHOENIX, AZ 85015 </td>\\n<td>(602) 266-2620</td>\\n<td>10/10/2013</td>\\n<td>10/09/2017</td>\\n</tr>\\n\\n<tr>\\n\\n<td>200202405</td>\\n<td>Enterprise Holdings, Inc. Political Action Committee<br>600 CORPORATE PARK DR<br>SAINT LOUIS, MO 63105 </td>\\n<td>(314) 512-5000</td>\\n<td>11/17/2014</td>\\n<td>11/16/2018</td>\\n</tr>\\n\\n<tr>\\n\\n<td>1140</td>\\n<td>GREATER PHOENIX CHAMBER OF COMMERCE POLITICAL ACTION COMMITTEE<br>201 N CENTRAL AVE, FL 27<br>PHOENIX, AZ 85004 </td>\\n<td>(602) 495-6474</td>\\n<td>12/21/2013</td>\\n<td>12/20/2017</td>\\n</tr>\\n\\n<tr>\\n\\n<td>1452</td>\\n<td>HOME BUILDERS ASSN OF CENTRAL AZ POLITICAL ACTION COMMITTEE<br>7740 N 16TH ST, STE 385<br>PHOENIX, AZ 85020 </td>\\n<td>(602) 274-6545</td>\\n<td>05/15/2013</td>\\n<td>05/14/2015</td>\\n</tr>\\n\\n<tr>\\n\\n<td>201000325</td>\\n<td>Honeywell International Political Action Committee Arizona-(HIPAC AZ)<br>101 CONSTITUTION AVE. NW, SUITE 500 WEST<br>WASHINGTON, DC 20001 </td>\\n<td>(202) 662-2644</td>\\n<td>01/03/2014</td>\\n<td>01/02/2018</td>\\n</tr>\\n\\n<tr>\\n\\n<td>1233</td>\\n<td>JPMORGAN CHASE &amp; CO ARIZONA PAC<br>601 PENNSYLVANIA AVE NW, FL 7<br>WASHINGTON, DC 20004 </td>\\n<td>(202) 585-3750</td>\\n<td>02/10/2014</td>\\n<td>02/09/2018</td>\\n</tr>\\n\\n<tr>\\n\\n<td>1663</td>\\n<td>PARADISE VALLEY FUND FOR CHILDREN IN PUBLIC EDUCATION (PV ED &amp; SUPPORT EMPL ASSN PAC)<br>345 E PALM LN<br>PHOENIX, AZ 85004 </td>\\n<td>(602) 407-2380</td>\\n<td>04/03/2014</td>\\n<td>04/02/2018</td>\\n</tr>\\n\\n<tr>\\n\\n<td>1016</td>\\n<td>PINNACLE WEST CAPITAL CORPORATION POLITICAL ACTION COMMITTEE<br>C/O BOB EKSTROM, 801 PENNSYLVANIA AVE NW, SUITE 214<br>WASHINGTON, DC 20004 </td>\\n<td>(202) 293-2655</td>\\n<td>02/25/2014</td>\\n<td>02/24/2018</td>\\n</tr>\\n\\n<tr>\\n\\n<td>1155</td>\\n<td>REALTORS OF AZ PAC (RAPAC)<br>255 E OSBORN RD, STE 200<br>PHOENIX, AZ 85012 </td>\\n<td>(602) 248-7787</td>\\n<td>09/23/2013</td>\\n<td>09/22/2017</td>\\n</tr>\\n\\n<tr>\\n\\n<td>1206</td>\\n<td>SALT RIVER VALLEY WATER USERS ASSN POLITICAL INVOLVEMENT COMMITTEE<br>CORPORATE TAXES,  ISB336  PO BOX 52025<br>PHOENIX, AZ 85207 </td>\\n<td>(602) 236-2070</td>\\n<td>01/07/2014</td>\\n<td>01/06/2018</td>\\n</tr>\\n\\n<tr>\\n\\n<td>201200346</td>\\n<td>The Political Committee of Planned Parenthood Advocates of Arizona<br>5651 N 7TH ST<br>PHOENIX, AZ 85014 </td>\\n<td>(602) 263-4215</td>\\n<td>06/09/2014</td>\\n<td>06/08/2018</td>\\n</tr>\\n\\n<tr>\\n\\n<td>200802906</td>\\n<td>UNITE HERE TIP CAMPAIGN COMMITTEE<br>275 SEVENTH AVENUE, 11TH FLOOR<br>NEW YORK, NY 10001 </td>\\n<td>(212) 265-7000</td>\\n<td>07/16/2013</td>\\n<td>07/15/2015</td>\\n</tr>\\n\\n<tr>\\n\\n<td>1797</td>\\n<td>UNITED FOOD &amp; COMMERCIAL WORKERS ACTIVE BALLOT CLUB (UFCW)<br>1775 K ST NW<br>WASHINGTON, DC 20006 </td>\\n<td>(202) 223-3111</td>\\n<td>04/09/2014</td>\\n<td>04/08/2018</td>\\n</tr>\\n\\n<tr>\\n\\n<td>2083</td>\\n<td>UNITED FOOD &amp; COMMERCIAL WORKERS UNION OF AZ LOCAL 99<br>2401 N CENTRAL AVE<br>PHOENIX, AZ 85004 </td>\\n<td>(602) 626-8805</td>\\n<td>10/03/2013</td>\\n<td>10/02/2017</td>\\n</tr>\\n\\n<tr>\\n\\n<td>200402535</td>\\n<td>United Services Automobile Assn Employee PAC<br>9800 FREDERICKSBURG RD<br>SAN ANTONIO, TX 78288 </td>\\n<td>(210) 498-0736</td>\\n<td>02/22/2015</td>\\n<td>02/21/2019</td>\\n</tr>\\n\\n</tbody></table>\\n\\n    \\n\\n\\n                            \\n                        \\n</div>\\n                        <br>\\n                        \\n                        <br>\\n                    </div>\\n                \\n\\n<script type=\"text/javascript\">\\n//<![CDATA[\\n(function() {var fn = function() {$get(\"ctl00_ctl00_ScriptManager1_HiddenField\").value = \\'\\';Sys.Application.remove_init(fn);};Sys.Application.add_init(fn);})();\\nSys.Application.setServerId(\"ctl00_ctl00_ScriptManager1\", \"ctl00$ctl00$ScriptManager1\");\\n\\nSys.Application._enableHistoryInScriptManager();\\nSys.Application.initialize();\\n//]]>\\n</script>\\n</form>\\n            </div>\\n        </div>\\n        <div id=\"footer\" style=\"clear:both;\">\\n\\n    <div style=\"clear:both;\"><br><br></div>\\n    \\n\\t\\t<a href=\"http://www.azsos.gov/website-policies\" title=\"Website Policies\" style=\"color: #9B918B;text-decoration: none;text-align: center;font-size: 13px;padding-right: 6px;\">Website Policies</a>\\n\\t\\t<a href=\"http://www.azsos.gov/about-office/contact-us\" title=\"Contact Us\" style=\"color: #9B918B;border-left: 1px solid #9B918B;padding-left: 6px;text-decoration: none;text-align: center;font-size: 13px;padding-right: 6px;\">Contact Us</a>\\t\\n    <br>\\n <span style=\"color: #9B918B;text-decoration: none;text-align: center;font-size: 11px;line-height:2.2em;padding-top:10px;margin-bottom:10px;\">\\n          Â©<script type=\"text/javascript\">\\n\\n                    today = new Date();\\n                    yr = today.getFullYear();\\n                    document.write(yr);\\n\\n\\t\\t  </script>2015 \\n         Arizona Secretary of State, All Rights Reserved</span>\\n          \\n</div>\\n    </div>\\n\\n\\n<div id=\"chrome_websiteIP\" class=\"chrome_websiteIP_right\">70.191.145.34</div></body></html>'"
      ]
     },
     "execution_count": 13,
     "metadata": {},
     "output_type": "execute_result"
    }
   ],
   "source": [
    "resp"
   ]
  },
  {
   "cell_type": "code",
   "execution_count": 15,
   "metadata": {
    "collapsed": false
   },
   "outputs": [],
   "source": [
    "d = etree.fromstring(resp, parser=HTMLParser())"
   ]
  },
  {
   "cell_type": "markdown",
   "metadata": {},
   "source": [
    "The easiest thing to do is just look for the table we're interested by writing an xpath query. The `<table>` "
   ]
  },
  {
   "cell_type": "code",
   "execution_count": 17,
   "metadata": {
    "collapsed": false
   },
   "outputs": [
    {
     "data": {
      "text/plain": [
       "[<Element table at 0x7fbe9c435138>, <Element table at 0x7fbe9c435188>]"
      ]
     },
     "execution_count": 17,
     "metadata": {},
     "output_type": "execute_result"
    }
   ],
   "source": [
    "d.xpath('//table')"
   ]
  },
  {
   "cell_type": "markdown",
   "metadata": {},
   "source": [
    "Hm, looks like there's more than one, so we're going to have to narrow our XPath query. Here's where we can cheat: using Chrome/Chromium, we can right click on the table, and select \"Inspect Element\" from the dropdown. This opens Developer Tools and shows us where in the page's source that object is. Right click on the `<table>` tag and select \"Copy XPath\". Now paste the results into a text editor.  What you'll see is:\n",
    "\n",
    "    //*[@id=\"ctl00_ctl00_MainPanel\"]/table\n",
    "    \n",
    "Chrome DevTools does its best to find a short-ish query that uniquely identifies the node you've selected. The results of this query will be more targeted."
   ]
  },
  {
   "cell_type": "code",
   "execution_count": 18,
   "metadata": {
    "collapsed": false
   },
   "outputs": [
    {
     "data": {
      "text/plain": [
       "[<Element table at 0x7fbe9c435188>]"
      ]
     },
     "execution_count": 18,
     "metadata": {},
     "output_type": "execute_result"
    }
   ],
   "source": [
    "d.xpath('//*[@id=\"ctl00_ctl00_MainPanel\"]/table')"
   ]
  },
  {
   "cell_type": "markdown",
   "metadata": {},
   "source": [
    "Notice that this is still a list. To access it we'll need to select the object by indexing with `[0]`.\n",
    "\n",
    "We know that the information we need is in this table, and using IPython we can test out scripts that scrape the data."
   ]
  },
  {
   "cell_type": "code",
   "execution_count": 21,
   "metadata": {
    "collapsed": true
   },
   "outputs": [],
   "source": [
    "target_table = d.xpath('//*[@id=\"ctl00_ctl00_MainPanel\"]/table')[0]"
   ]
  },
  {
   "cell_type": "markdown",
   "metadata": {},
   "source": [
    "The `table` element can, in turn, be queried with an XPath query. We can get all of the rows with `tbody/tr`."
   ]
  },
  {
   "cell_type": "code",
   "execution_count": 34,
   "metadata": {
    "collapsed": false,
    "scrolled": true
   },
   "outputs": [
    {
     "data": {
      "text/plain": [
       "26"
      ]
     },
     "execution_count": 34,
     "metadata": {},
     "output_type": "execute_result"
    }
   ],
   "source": [
    "rows = target_table.xpath('tbody/tr')\n",
    "len(rows)"
   ]
  },
  {
   "cell_type": "code",
   "execution_count": 36,
   "metadata": {
    "collapsed": false
   },
   "outputs": [
    {
     "data": {
      "text/plain": [
       "<Element tr at 0x7fbe9c43f138>"
      ]
     },
     "execution_count": 36,
     "metadata": {},
     "output_type": "execute_result"
    }
   ],
   "source": [
    "rows[0]"
   ]
  },
  {
   "cell_type": "code",
   "execution_count": 97,
   "metadata": {
    "collapsed": true
   },
   "outputs": [],
   "source": [
    "def find_the_table(html_document):\n",
    "    return d.xpath('//*[@id=\"ctl00_ctl00_MainPanel\"]/table')[0]"
   ]
  },
  {
   "cell_type": "markdown",
   "metadata": {},
   "source": [
    "To see what the original HTML string of any element looks like, use:"
   ]
  },
  {
   "cell_type": "code",
   "execution_count": 37,
   "metadata": {
    "collapsed": false
   },
   "outputs": [
    {
     "data": {
      "text/plain": [
       "b'<tr>\\n\\n<td>201000081</td>\\n<td>Arizona List P.A.C.<br />PO BOX 42294<br />TUCSON, AZ 85733 </td>\\n<td>(520) 327-0520</td>\\n<td>01/25/2015</td>\\n<td>01/24/2019</td>\\n</tr>\\n\\n'"
      ]
     },
     "execution_count": 37,
     "metadata": {},
     "output_type": "execute_result"
    }
   ],
   "source": [
    "etree.tostring(rows[5])"
   ]
  },
  {
   "cell_type": "markdown",
   "metadata": {},
   "source": [
    "Now we can write functions to query for, and parse each table. It can be helpful when debugging to break up your scraper's code into small functions, so that when (not if ;) something goes wrong, it's easier to tell where and why."
   ]
  },
  {
   "cell_type": "code",
   "execution_count": 91,
   "metadata": {
    "collapsed": true
   },
   "outputs": [],
   "source": [
    "def scrape_table_first_draft(table_element):\n",
    "    scraped_rows = []\n",
    "    for row in table_element.xpath('tbody/tr'):\n",
    "        _data = {}\n",
    "        columns = row.xpath('td')\n",
    "        _data['org_id'] = columns[0].text_content()\n",
    "        _data['org_name_and_address'] = columns[1].text_content()\n",
    "        _data['org_phone'] = columns[2].text_content()\n",
    "        _data['org_begin_date'] = columns[3].text_content()\n",
    "        _data['org_end_date'] = columns[4].text_content()\n",
    "        scraped_rows.append(_data)\n",
    "    return scraped_rows"
   ]
  },
  {
   "cell_type": "code",
   "execution_count": 92,
   "metadata": {
    "collapsed": false
   },
   "outputs": [
    {
     "ename": "IndexError",
     "evalue": "list index out of range",
     "output_type": "error",
     "traceback": [
      "\u001b[1;31m---------------------------------------------------------------------------\u001b[0m",
      "\u001b[1;31mIndexError\u001b[0m                                Traceback (most recent call last)",
      "\u001b[1;32m<ipython-input-92-fd2553283391>\u001b[0m in \u001b[0;36m<module>\u001b[1;34m()\u001b[0m\n\u001b[1;32m----> 1\u001b[1;33m \u001b[0mscrape_table_first_draft\u001b[0m\u001b[1;33m(\u001b[0m\u001b[0mtarget_table\u001b[0m\u001b[1;33m)\u001b[0m\u001b[1;33m\u001b[0m\u001b[0m\n\u001b[0m",
      "\u001b[1;32m<ipython-input-91-84a31ec38150>\u001b[0m in \u001b[0;36mscrape_table_first_draft\u001b[1;34m(table_element)\u001b[0m\n\u001b[0;32m      4\u001b[0m         \u001b[0m_data\u001b[0m \u001b[1;33m=\u001b[0m \u001b[1;33m{\u001b[0m\u001b[1;33m}\u001b[0m\u001b[1;33m\u001b[0m\u001b[0m\n\u001b[0;32m      5\u001b[0m         \u001b[0mcolumns\u001b[0m \u001b[1;33m=\u001b[0m \u001b[0mrow\u001b[0m\u001b[1;33m.\u001b[0m\u001b[0mxpath\u001b[0m\u001b[1;33m(\u001b[0m\u001b[1;34m'td'\u001b[0m\u001b[1;33m)\u001b[0m\u001b[1;33m\u001b[0m\u001b[0m\n\u001b[1;32m----> 6\u001b[1;33m         \u001b[0m_data\u001b[0m\u001b[1;33m[\u001b[0m\u001b[1;34m'org_id'\u001b[0m\u001b[1;33m]\u001b[0m \u001b[1;33m=\u001b[0m \u001b[0mcolumns\u001b[0m\u001b[1;33m[\u001b[0m\u001b[1;36m0\u001b[0m\u001b[1;33m]\u001b[0m\u001b[1;33m.\u001b[0m\u001b[0mtext_content\u001b[0m\u001b[1;33m(\u001b[0m\u001b[1;33m)\u001b[0m\u001b[1;33m\u001b[0m\u001b[0m\n\u001b[0m\u001b[0;32m      7\u001b[0m         \u001b[0m_data\u001b[0m\u001b[1;33m[\u001b[0m\u001b[1;34m'org_name_and_address'\u001b[0m\u001b[1;33m]\u001b[0m \u001b[1;33m=\u001b[0m \u001b[0mcolumns\u001b[0m\u001b[1;33m[\u001b[0m\u001b[1;36m1\u001b[0m\u001b[1;33m]\u001b[0m\u001b[1;33m.\u001b[0m\u001b[0mtext_content\u001b[0m\u001b[1;33m(\u001b[0m\u001b[1;33m)\u001b[0m\u001b[1;33m\u001b[0m\u001b[0m\n\u001b[0;32m      8\u001b[0m         \u001b[0m_data\u001b[0m\u001b[1;33m[\u001b[0m\u001b[1;34m'org_phone'\u001b[0m\u001b[1;33m]\u001b[0m \u001b[1;33m=\u001b[0m \u001b[0mcolumns\u001b[0m\u001b[1;33m[\u001b[0m\u001b[1;36m2\u001b[0m\u001b[1;33m]\u001b[0m\u001b[1;33m.\u001b[0m\u001b[0mtext_content\u001b[0m\u001b[1;33m(\u001b[0m\u001b[1;33m)\u001b[0m\u001b[1;33m\u001b[0m\u001b[0m\n",
      "\u001b[1;31mIndexError\u001b[0m: list index out of range"
     ]
    }
   ],
   "source": [
    "scrape_table_first_draft(target_table)"
   ]
  },
  {
   "cell_type": "markdown",
   "metadata": {},
   "source": [
    "Oops! Let's look at what happened. We got an `IndexError` when looking for item `0` in the list `columns`. Expect to see a lot of these kinds of errors when writing `lxml` scrapers. It usually means that an XPath query returned an empty list.  Let's make use our `\"td\"` query is working on each row:"
   ]
  },
  {
   "cell_type": "code",
   "execution_count": 94,
   "metadata": {
    "collapsed": false
   },
   "outputs": [
    {
     "data": {
      "text/plain": [
       "[[],\n",
       " [<Element td at 0x7fbe9c4512c8>,\n",
       "  <Element td at 0x7fbe9c4518b8>,\n",
       "  <Element td at 0x7fbe9c451908>,\n",
       "  <Element td at 0x7fbe9c451958>,\n",
       "  <Element td at 0x7fbe9c4519a8>],\n",
       " [<Element td at 0x7fbe9c4519f8>,\n",
       "  <Element td at 0x7fbe9c451a48>,\n",
       "  <Element td at 0x7fbe9c451a98>,\n",
       "  <Element td at 0x7fbe9c451ae8>,\n",
       "  <Element td at 0x7fbe9c451b38>],\n",
       " [<Element td at 0x7fbe9c451b88>,\n",
       "  <Element td at 0x7fbe9c451bd8>,\n",
       "  <Element td at 0x7fbe9c451c28>,\n",
       "  <Element td at 0x7fbe9c451c78>,\n",
       "  <Element td at 0x7fbe9c451cc8>],\n",
       " [<Element td at 0x7fbe9c451d18>,\n",
       "  <Element td at 0x7fbe9c451d68>,\n",
       "  <Element td at 0x7fbe9c451db8>,\n",
       "  <Element td at 0x7fbe9c451e08>,\n",
       "  <Element td at 0x7fbe9c451e58>],\n",
       " [<Element td at 0x7fbe9c451ea8>,\n",
       "  <Element td at 0x7fbe9c451ef8>,\n",
       "  <Element td at 0x7fbe9c451f48>,\n",
       "  <Element td at 0x7fbe9c451f98>,\n",
       "  <Element td at 0x7fbe9c450048>],\n",
       " [<Element td at 0x7fbe9c450098>,\n",
       "  <Element td at 0x7fbe9c4500e8>,\n",
       "  <Element td at 0x7fbe9c450138>,\n",
       "  <Element td at 0x7fbe9c450188>,\n",
       "  <Element td at 0x7fbe9c4501d8>],\n",
       " [<Element td at 0x7fbe9c450228>,\n",
       "  <Element td at 0x7fbe9c450278>,\n",
       "  <Element td at 0x7fbe9c4502c8>,\n",
       "  <Element td at 0x7fbe9c450318>,\n",
       "  <Element td at 0x7fbe9c450368>],\n",
       " [<Element td at 0x7fbe9c4503b8>,\n",
       "  <Element td at 0x7fbe9c450408>,\n",
       "  <Element td at 0x7fbe9c450458>,\n",
       "  <Element td at 0x7fbe9c4504a8>,\n",
       "  <Element td at 0x7fbe9c4504f8>],\n",
       " [<Element td at 0x7fbe9c450548>,\n",
       "  <Element td at 0x7fbe9c450598>,\n",
       "  <Element td at 0x7fbe9c4505e8>,\n",
       "  <Element td at 0x7fbe9c450638>,\n",
       "  <Element td at 0x7fbe9c450688>],\n",
       " [<Element td at 0x7fbe9c4506d8>,\n",
       "  <Element td at 0x7fbe9c450728>,\n",
       "  <Element td at 0x7fbe9c450778>,\n",
       "  <Element td at 0x7fbe9c4507c8>,\n",
       "  <Element td at 0x7fbe9c450818>],\n",
       " [<Element td at 0x7fbe9c450868>,\n",
       "  <Element td at 0x7fbe9c4508b8>,\n",
       "  <Element td at 0x7fbe9c450908>,\n",
       "  <Element td at 0x7fbe9c450958>,\n",
       "  <Element td at 0x7fbe9c4509a8>],\n",
       " [<Element td at 0x7fbe9c4509f8>,\n",
       "  <Element td at 0x7fbe9c450a48>,\n",
       "  <Element td at 0x7fbe9c450a98>,\n",
       "  <Element td at 0x7fbe9c450ae8>,\n",
       "  <Element td at 0x7fbe9c450b38>],\n",
       " [<Element td at 0x7fbe9c450b88>,\n",
       "  <Element td at 0x7fbe9c450bd8>,\n",
       "  <Element td at 0x7fbe9c450c28>,\n",
       "  <Element td at 0x7fbe9c450c78>,\n",
       "  <Element td at 0x7fbe9c450cc8>],\n",
       " [<Element td at 0x7fbe9c450d18>,\n",
       "  <Element td at 0x7fbe9c450d68>,\n",
       "  <Element td at 0x7fbe9c450db8>,\n",
       "  <Element td at 0x7fbe9c450e08>,\n",
       "  <Element td at 0x7fbe9c450e58>],\n",
       " [<Element td at 0x7fbe9c450ea8>,\n",
       "  <Element td at 0x7fbe9c450ef8>,\n",
       "  <Element td at 0x7fbe9c450f48>,\n",
       "  <Element td at 0x7fbe9c450f98>,\n",
       "  <Element td at 0x7fbe9c45e048>],\n",
       " [<Element td at 0x7fbe9c45e098>,\n",
       "  <Element td at 0x7fbe9c45e0e8>,\n",
       "  <Element td at 0x7fbe9c45e138>,\n",
       "  <Element td at 0x7fbe9c45e188>,\n",
       "  <Element td at 0x7fbe9c45e1d8>],\n",
       " [<Element td at 0x7fbe9c45e228>,\n",
       "  <Element td at 0x7fbe9c45e278>,\n",
       "  <Element td at 0x7fbe9c45e2c8>,\n",
       "  <Element td at 0x7fbe9c45e318>,\n",
       "  <Element td at 0x7fbe9c45e368>],\n",
       " [<Element td at 0x7fbe9c45e3b8>,\n",
       "  <Element td at 0x7fbe9c45e408>,\n",
       "  <Element td at 0x7fbe9c45e458>,\n",
       "  <Element td at 0x7fbe9c45e4a8>,\n",
       "  <Element td at 0x7fbe9c45e4f8>],\n",
       " [<Element td at 0x7fbe9c45e548>,\n",
       "  <Element td at 0x7fbe9c45e598>,\n",
       "  <Element td at 0x7fbe9c45e5e8>,\n",
       "  <Element td at 0x7fbe9c45e638>,\n",
       "  <Element td at 0x7fbe9c45e688>],\n",
       " [<Element td at 0x7fbe9c45e6d8>,\n",
       "  <Element td at 0x7fbe9c45e728>,\n",
       "  <Element td at 0x7fbe9c45e778>,\n",
       "  <Element td at 0x7fbe9c45e7c8>,\n",
       "  <Element td at 0x7fbe9c45e818>],\n",
       " [<Element td at 0x7fbe9c45e868>,\n",
       "  <Element td at 0x7fbe9c45e8b8>,\n",
       "  <Element td at 0x7fbe9c45e908>,\n",
       "  <Element td at 0x7fbe9c45e958>,\n",
       "  <Element td at 0x7fbe9c45e9a8>],\n",
       " [<Element td at 0x7fbe9c45e9f8>,\n",
       "  <Element td at 0x7fbe9c45ea48>,\n",
       "  <Element td at 0x7fbe9c45ea98>,\n",
       "  <Element td at 0x7fbe9c45eae8>,\n",
       "  <Element td at 0x7fbe9c45eb38>],\n",
       " [<Element td at 0x7fbe9c45eb88>,\n",
       "  <Element td at 0x7fbe9c45ebd8>,\n",
       "  <Element td at 0x7fbe9c45ec28>,\n",
       "  <Element td at 0x7fbe9c45ec78>,\n",
       "  <Element td at 0x7fbe9c45ecc8>],\n",
       " [<Element td at 0x7fbe9c45ed18>,\n",
       "  <Element td at 0x7fbe9c45ed68>,\n",
       "  <Element td at 0x7fbe9c45edb8>,\n",
       "  <Element td at 0x7fbe9c45ee08>,\n",
       "  <Element td at 0x7fbe9c45ee58>],\n",
       " [<Element td at 0x7fbe9c4352c8>,\n",
       "  <Element td at 0x7fbe9c45eea8>,\n",
       "  <Element td at 0x7fbe9c45eef8>,\n",
       "  <Element td at 0x7fbe9c45ef48>,\n",
       "  <Element td at 0x7fbe9c45ef98>]]"
      ]
     },
     "execution_count": 94,
     "metadata": {},
     "output_type": "execute_result"
    }
   ],
   "source": [
    "[row.xpath(\"td\") for row in target_table.xpath('tbody/tr')]"
   ]
  },
  {
   "cell_type": "markdown",
   "metadata": {},
   "source": [
    "Ah, the first row has no `td` elements!  Let's look at it again:"
   ]
  },
  {
   "cell_type": "code",
   "execution_count": 96,
   "metadata": {
    "collapsed": false
   },
   "outputs": [
    {
     "data": {
      "text/plain": [
       "b'<tr><th>Filer ID</th><th>Name &amp; Address</th> <th>Phone #</th><th>Begin Date</th><th>End Date</th></tr>\\n\\n'"
      ]
     },
     "execution_count": 96,
     "metadata": {},
     "output_type": "execute_result"
    }
   ],
   "source": [
    "etree.tostring(target_table.xpath('tbody/tr')[0])"
   ]
  },
  {
   "cell_type": "markdown",
   "metadata": {},
   "source": [
    "Of course: the first row is a header row, and only contains `<th>` tags. (Actually, this is bad HTML. The `th` tags should be inside of a `<thead>` tag, but that's not what was on the page). Let's make sure that there are 5 `td` tags when parsing a row."
   ]
  },
  {
   "cell_type": "code",
   "execution_count": 98,
   "metadata": {
    "collapsed": true
   },
   "outputs": [],
   "source": [
    "def scrape_table_second_draft(table_element):\n",
    "    scraped_rows = []\n",
    "    for row in table_element.xpath('tbody/tr'):\n",
    "        _data = {}\n",
    "        columns = row.xpath('td')\n",
    "        if len(columns) == 5:\n",
    "            _data['org_id'] = columns[0].text_content()\n",
    "            _data['org_name_and_address'] = columns[1].text_content()\n",
    "            _data['org_phone'] = columns[2].text_content()\n",
    "            _data['org_begin_date'] = columns[3].text_content()\n",
    "            _data['org_end_date'] = columns[4].text_content()\n",
    "            scraped_rows.append(_data)\n",
    "    return scraped_rows\n",
    "        "
   ]
  },
  {
   "cell_type": "code",
   "execution_count": 99,
   "metadata": {
    "collapsed": false
   },
   "outputs": [],
   "source": [
    "result = scrape_table_second_draft(target_table)"
   ]
  },
  {
   "cell_type": "code",
   "execution_count": 100,
   "metadata": {
    "collapsed": false
   },
   "outputs": [
    {
     "data": {
      "text/plain": [
       "[{'org_begin_date': '06/09/2014',\n",
       "  'org_end_date': '06/08/2018',\n",
       "  'org_id': '1066',\n",
       "  'org_name_and_address': 'AEA FUND FOR PUBLIC EDUCATION (FORMERLY) AZ PAC (AZ EDUCATION ASSN PAC)345 E PALM LNPHOENIX, AZ 85004 ',\n",
       "  'org_phone': '(602) 264-1774'},\n",
       " {'org_begin_date': '04/02/2014',\n",
       "  'org_end_date': '04/01/2018',\n",
       "  'org_id': '1354',\n",
       "  'org_name_and_address': 'AFSCME PEOPLE1625 L ST NWWASHINGTON, DC 20036 ',\n",
       "  'org_phone': '(202) 429-1088'},\n",
       " {'org_begin_date': '02/14/2014',\n",
       "  'org_end_date': '02/13/2018',\n",
       "  'org_id': '200602733',\n",
       "  'org_name_and_address': 'ARIZONA CHAMBER POLITICAL ACTION COMMITTEE3200 N CENTRAL AVE, STE 1125PHOENIX, AZ 85012 ',\n",
       "  'org_phone': '(602) 248-9172'},\n",
       " {'org_begin_date': '07/21/2014',\n",
       "  'org_end_date': '07/20/2018',\n",
       "  'org_id': '200602848',\n",
       "  'org_name_and_address': 'ARIZONA FAMILIES UNITED FOR STRONG COMMUNITIES- PROJECT OF SEIU COPE3707 N 7TH ST, STE 100PHOENIX, AZ 85014 ',\n",
       "  'org_phone': '(602) 279-8016'},\n",
       " {'org_begin_date': '01/25/2015',\n",
       "  'org_end_date': '01/24/2019',\n",
       "  'org_id': '201000081',\n",
       "  'org_name_and_address': 'Arizona List P.A.C.PO BOX 42294TUCSON, AZ 85733 ',\n",
       "  'org_phone': '(520) 327-0520'},\n",
       " {'org_begin_date': '05/15/2013',\n",
       "  'org_end_date': '05/14/2015',\n",
       "  'org_id': '1100',\n",
       "  'org_name_and_address': 'Arizona Lodging & Tourism Super PAC1240 E MISSOURI AVEPHOENIX, AZ 85014 ',\n",
       "  'org_phone': '(602) 604-0729'},\n",
       " {'org_begin_date': '02/10/2014',\n",
       "  'org_end_date': '02/09/2018',\n",
       "  'org_id': '1227',\n",
       "  'org_name_and_address': 'Arizona Pipe Trades 4693109 N 24TH STPHOENIX, AZ 85016 ',\n",
       "  'org_phone': '(602) 626-8805'},\n",
       " {'org_begin_date': '12/15/2013',\n",
       "  'org_end_date': '12/14/2017',\n",
       "  'org_id': '1065',\n",
       "  'org_name_and_address': 'AZ DENTAL POLITICAL ACTION COMMITTEE3193 N DRINKWATER BLVDSCOTTSDALE, AZ 85251 ',\n",
       "  'org_phone': '(480) 344-5777'},\n",
       " {'org_begin_date': '12/05/2013',\n",
       "  'org_end_date': '12/04/2017',\n",
       "  'org_id': '1129',\n",
       "  'org_name_and_address': 'AZ MULTIHOUSING ASSN PAC818 N 1ST STPHOENIX, AZ 85004 ',\n",
       "  'org_phone': '(602) 296-6200'},\n",
       " {'org_begin_date': '10/16/2014',\n",
       "  'org_end_date': '10/15/2018',\n",
       "  'org_id': '2109',\n",
       "  'org_name_and_address': 'BNSF Railway Company RAILPACPO BOX 961039FORT WORTH, TX 76161 ',\n",
       "  'org_phone': '(202) 347-8662'},\n",
       " {'org_begin_date': '10/10/2013',\n",
       "  'org_end_date': '10/09/2017',\n",
       "  'org_id': '200002272',\n",
       "  'org_name_and_address': 'CWA COMMUNICATIONS WORKERS OF AMERICA /AZ COMMITTEE  ON POLITICAL EDUCATION (COPE)1951 W CAMELBACK RD, STE 335PHOENIX, AZ 85015 ',\n",
       "  'org_phone': '(602) 266-2620'},\n",
       " {'org_begin_date': '11/17/2014',\n",
       "  'org_end_date': '11/16/2018',\n",
       "  'org_id': '200202405',\n",
       "  'org_name_and_address': 'Enterprise Holdings, Inc. Political Action Committee600 CORPORATE PARK DRSAINT LOUIS, MO 63105 ',\n",
       "  'org_phone': '(314) 512-5000'},\n",
       " {'org_begin_date': '12/21/2013',\n",
       "  'org_end_date': '12/20/2017',\n",
       "  'org_id': '1140',\n",
       "  'org_name_and_address': 'GREATER PHOENIX CHAMBER OF COMMERCE POLITICAL ACTION COMMITTEE201 N CENTRAL AVE, FL 27PHOENIX, AZ 85004 ',\n",
       "  'org_phone': '(602) 495-6474'},\n",
       " {'org_begin_date': '05/15/2013',\n",
       "  'org_end_date': '05/14/2015',\n",
       "  'org_id': '1452',\n",
       "  'org_name_and_address': 'HOME BUILDERS ASSN OF CENTRAL AZ POLITICAL ACTION COMMITTEE7740 N 16TH ST, STE 385PHOENIX, AZ 85020 ',\n",
       "  'org_phone': '(602) 274-6545'},\n",
       " {'org_begin_date': '01/03/2014',\n",
       "  'org_end_date': '01/02/2018',\n",
       "  'org_id': '201000325',\n",
       "  'org_name_and_address': 'Honeywell International Political Action Committee Arizona-(HIPAC AZ)101 CONSTITUTION AVE. NW, SUITE 500 WESTWASHINGTON, DC 20001 ',\n",
       "  'org_phone': '(202) 662-2644'},\n",
       " {'org_begin_date': '02/10/2014',\n",
       "  'org_end_date': '02/09/2018',\n",
       "  'org_id': '1233',\n",
       "  'org_name_and_address': 'JPMORGAN CHASE & CO ARIZONA PAC601 PENNSYLVANIA AVE NW, FL 7WASHINGTON, DC 20004 ',\n",
       "  'org_phone': '(202) 585-3750'},\n",
       " {'org_begin_date': '04/03/2014',\n",
       "  'org_end_date': '04/02/2018',\n",
       "  'org_id': '1663',\n",
       "  'org_name_and_address': 'PARADISE VALLEY FUND FOR CHILDREN IN PUBLIC EDUCATION (PV ED & SUPPORT EMPL ASSN PAC)345 E PALM LNPHOENIX, AZ 85004 ',\n",
       "  'org_phone': '(602) 407-2380'},\n",
       " {'org_begin_date': '02/25/2014',\n",
       "  'org_end_date': '02/24/2018',\n",
       "  'org_id': '1016',\n",
       "  'org_name_and_address': 'PINNACLE WEST CAPITAL CORPORATION POLITICAL ACTION COMMITTEEC/O BOB EKSTROM, 801 PENNSYLVANIA AVE NW, SUITE 214WASHINGTON, DC 20004 ',\n",
       "  'org_phone': '(202) 293-2655'},\n",
       " {'org_begin_date': '09/23/2013',\n",
       "  'org_end_date': '09/22/2017',\n",
       "  'org_id': '1155',\n",
       "  'org_name_and_address': 'REALTORS OF AZ PAC (RAPAC)255 E OSBORN RD, STE 200PHOENIX, AZ 85012 ',\n",
       "  'org_phone': '(602) 248-7787'},\n",
       " {'org_begin_date': '01/07/2014',\n",
       "  'org_end_date': '01/06/2018',\n",
       "  'org_id': '1206',\n",
       "  'org_name_and_address': 'SALT RIVER VALLEY WATER USERS ASSN POLITICAL INVOLVEMENT COMMITTEECORPORATE TAXES,  ISB336  PO BOX 52025PHOENIX, AZ 85207 ',\n",
       "  'org_phone': '(602) 236-2070'},\n",
       " {'org_begin_date': '06/09/2014',\n",
       "  'org_end_date': '06/08/2018',\n",
       "  'org_id': '201200346',\n",
       "  'org_name_and_address': 'The Political Committee of Planned Parenthood Advocates of Arizona5651 N 7TH STPHOENIX, AZ 85014 ',\n",
       "  'org_phone': '(602) 263-4215'},\n",
       " {'org_begin_date': '07/16/2013',\n",
       "  'org_end_date': '07/15/2015',\n",
       "  'org_id': '200802906',\n",
       "  'org_name_and_address': 'UNITE HERE TIP CAMPAIGN COMMITTEE275 SEVENTH AVENUE, 11TH FLOORNEW YORK, NY 10001 ',\n",
       "  'org_phone': '(212) 265-7000'},\n",
       " {'org_begin_date': '04/09/2014',\n",
       "  'org_end_date': '04/08/2018',\n",
       "  'org_id': '1797',\n",
       "  'org_name_and_address': 'UNITED FOOD & COMMERCIAL WORKERS ACTIVE BALLOT CLUB (UFCW)1775 K ST NWWASHINGTON, DC 20006 ',\n",
       "  'org_phone': '(202) 223-3111'},\n",
       " {'org_begin_date': '10/03/2013',\n",
       "  'org_end_date': '10/02/2017',\n",
       "  'org_id': '2083',\n",
       "  'org_name_and_address': 'UNITED FOOD & COMMERCIAL WORKERS UNION OF AZ LOCAL 992401 N CENTRAL AVEPHOENIX, AZ 85004 ',\n",
       "  'org_phone': '(602) 626-8805'},\n",
       " {'org_begin_date': '02/22/2015',\n",
       "  'org_end_date': '02/21/2019',\n",
       "  'org_id': '200402535',\n",
       "  'org_name_and_address': 'United Services Automobile Assn Employee PAC9800 FREDERICKSBURG RDSAN ANTONIO, TX 78288 ',\n",
       "  'org_phone': '(210) 498-0736'}]"
      ]
     },
     "execution_count": 100,
     "metadata": {},
     "output_type": "execute_result"
    }
   ],
   "source": [
    "result"
   ]
  },
  {
   "cell_type": "markdown",
   "metadata": {},
   "source": [
    "Hm, let's see if we can do a better job with that `org_name_and_address` field. We're going to want to separate them."
   ]
  },
  {
   "cell_type": "code",
   "execution_count": 56,
   "metadata": {
    "collapsed": true
   },
   "outputs": [],
   "source": [
    "rows = target_table.xpath('tbody/tr')\n",
    "row = rows[7]"
   ]
  },
  {
   "cell_type": "code",
   "execution_count": 79,
   "metadata": {
    "collapsed": false
   },
   "outputs": [],
   "source": [
    "cell = row.xpath('td')[1]"
   ]
  },
  {
   "cell_type": "code",
   "execution_count": 80,
   "metadata": {
    "collapsed": false
   },
   "outputs": [
    {
     "data": {
      "text/plain": [
       "b'<td>Arizona Pipe Trades 469<br />3109 N 24TH ST<br />PHOENIX, AZ 85016 </td>\\n'"
      ]
     },
     "execution_count": 80,
     "metadata": {},
     "output_type": "execute_result"
    }
   ],
   "source": [
    "etree.tostring(cell)"
   ]
  },
  {
   "cell_type": "markdown",
   "metadata": {},
   "source": [
    "The first part of the cell can be extracted using the `text` property. Unlike `text_content`, it will only return the text up until the first `<br/>` tag."
   ]
  },
  {
   "cell_type": "code",
   "execution_count": 84,
   "metadata": {
    "collapsed": false
   },
   "outputs": [
    {
     "data": {
      "text/plain": [
       "'Arizona Pipe Trades 469'"
      ]
     },
     "execution_count": 84,
     "metadata": {},
     "output_type": "execute_result"
    }
   ],
   "source": [
    "cell.text"
   ]
  },
  {
   "cell_type": "markdown",
   "metadata": {},
   "source": [
    "We can take advantage of the `<br />` elements, by using their `tail` properties. This property returns text that follows the element, stopping before the next element encountered."
   ]
  },
  {
   "cell_type": "code",
   "execution_count": 82,
   "metadata": {
    "collapsed": false
   },
   "outputs": [
    {
     "name": "stdout",
     "output_type": "stream",
     "text": [
      "tail: \"3109 N 24TH ST\"\n",
      "tail: \"PHOENIX, AZ 85016 \"\n"
     ]
    }
   ],
   "source": [
    "for br in cell.xpath('br'):\n",
    "    print('tail: \"{}\"'.format(br.tail))"
   ]
  },
  {
   "cell_type": "code",
   "execution_count": 88,
   "metadata": {
    "collapsed": false
   },
   "outputs": [],
   "source": [
    "def separate_name_and_address(cell):\n",
    "    name = cell.text\n",
    "    address = ', '.join([br.tail for br in cell.xpath('br')])\n",
    "    return name, address\n",
    "\n",
    "def scrape_table(table_element):\n",
    "    scraped_rows = []\n",
    "    for row in table_element.xpath('tbody/tr'):\n",
    "        _data = {}\n",
    "        columns = row.xpath('td')\n",
    "        if len(columns) == 5:\n",
    "            _data['org_id'] = columns[0].text_content()\n",
    "            _name, _address = separate_name_and_address(columns[1])\n",
    "            _data['org_name'] = _name\n",
    "            _data['org_address'] = _address\n",
    "            _data['org_phone'] = columns[2].text_content()\n",
    "            _data['org_begin_date'] = columns[3].text_content()\n",
    "            _data['org_end_date'] = columns[4].text_content()\n",
    "            scraped_rows.append(_data)\n",
    "    return scraped_rows"
   ]
  },
  {
   "cell_type": "code",
   "execution_count": 86,
   "metadata": {
    "collapsed": true
   },
   "outputs": [],
   "source": [
    "results = new_scrape_function(target_table)"
   ]
  },
  {
   "cell_type": "code",
   "execution_count": 87,
   "metadata": {
    "collapsed": false
   },
   "outputs": [
    {
     "data": {
      "text/plain": [
       "[{'org_address': '345 E PALM LN, PHOENIX, AZ 85004 ',\n",
       "  'org_begin_date': '06/09/2014',\n",
       "  'org_end_date': '06/08/2018',\n",
       "  'org_id': '1066',\n",
       "  'org_name': 'AEA FUND FOR PUBLIC EDUCATION (FORMERLY) AZ PAC (AZ EDUCATION ASSN PAC)',\n",
       "  'org_phone': '(602) 264-1774'},\n",
       " {'org_address': '1625 L ST NW, WASHINGTON, DC 20036 ',\n",
       "  'org_begin_date': '04/02/2014',\n",
       "  'org_end_date': '04/01/2018',\n",
       "  'org_id': '1354',\n",
       "  'org_name': 'AFSCME PEOPLE',\n",
       "  'org_phone': '(202) 429-1088'},\n",
       " {'org_address': '3200 N CENTRAL AVE, STE 1125, PHOENIX, AZ 85012 ',\n",
       "  'org_begin_date': '02/14/2014',\n",
       "  'org_end_date': '02/13/2018',\n",
       "  'org_id': '200602733',\n",
       "  'org_name': 'ARIZONA CHAMBER POLITICAL ACTION COMMITTEE',\n",
       "  'org_phone': '(602) 248-9172'},\n",
       " {'org_address': '3707 N 7TH ST, STE 100, PHOENIX, AZ 85014 ',\n",
       "  'org_begin_date': '07/21/2014',\n",
       "  'org_end_date': '07/20/2018',\n",
       "  'org_id': '200602848',\n",
       "  'org_name': 'ARIZONA FAMILIES UNITED FOR STRONG COMMUNITIES- PROJECT OF SEIU COPE',\n",
       "  'org_phone': '(602) 279-8016'},\n",
       " {'org_address': 'PO BOX 42294, TUCSON, AZ 85733 ',\n",
       "  'org_begin_date': '01/25/2015',\n",
       "  'org_end_date': '01/24/2019',\n",
       "  'org_id': '201000081',\n",
       "  'org_name': 'Arizona List P.A.C.',\n",
       "  'org_phone': '(520) 327-0520'},\n",
       " {'org_address': '1240 E MISSOURI AVE, PHOENIX, AZ 85014 ',\n",
       "  'org_begin_date': '05/15/2013',\n",
       "  'org_end_date': '05/14/2015',\n",
       "  'org_id': '1100',\n",
       "  'org_name': 'Arizona Lodging & Tourism Super PAC',\n",
       "  'org_phone': '(602) 604-0729'},\n",
       " {'org_address': '3109 N 24TH ST, PHOENIX, AZ 85016 ',\n",
       "  'org_begin_date': '02/10/2014',\n",
       "  'org_end_date': '02/09/2018',\n",
       "  'org_id': '1227',\n",
       "  'org_name': 'Arizona Pipe Trades 469',\n",
       "  'org_phone': '(602) 626-8805'},\n",
       " {'org_address': '3193 N DRINKWATER BLVD, SCOTTSDALE, AZ 85251 ',\n",
       "  'org_begin_date': '12/15/2013',\n",
       "  'org_end_date': '12/14/2017',\n",
       "  'org_id': '1065',\n",
       "  'org_name': 'AZ DENTAL POLITICAL ACTION COMMITTEE',\n",
       "  'org_phone': '(480) 344-5777'},\n",
       " {'org_address': '818 N 1ST ST, PHOENIX, AZ 85004 ',\n",
       "  'org_begin_date': '12/05/2013',\n",
       "  'org_end_date': '12/04/2017',\n",
       "  'org_id': '1129',\n",
       "  'org_name': 'AZ MULTIHOUSING ASSN PAC',\n",
       "  'org_phone': '(602) 296-6200'},\n",
       " {'org_address': 'PO BOX 961039, FORT WORTH, TX 76161 ',\n",
       "  'org_begin_date': '10/16/2014',\n",
       "  'org_end_date': '10/15/2018',\n",
       "  'org_id': '2109',\n",
       "  'org_name': 'BNSF Railway Company RAILPAC',\n",
       "  'org_phone': '(202) 347-8662'},\n",
       " {'org_address': '1951 W CAMELBACK RD, STE 335, PHOENIX, AZ 85015 ',\n",
       "  'org_begin_date': '10/10/2013',\n",
       "  'org_end_date': '10/09/2017',\n",
       "  'org_id': '200002272',\n",
       "  'org_name': 'CWA COMMUNICATIONS WORKERS OF AMERICA /AZ COMMITTEE  ON POLITICAL EDUCATION (COPE)',\n",
       "  'org_phone': '(602) 266-2620'},\n",
       " {'org_address': '600 CORPORATE PARK DR, SAINT LOUIS, MO 63105 ',\n",
       "  'org_begin_date': '11/17/2014',\n",
       "  'org_end_date': '11/16/2018',\n",
       "  'org_id': '200202405',\n",
       "  'org_name': 'Enterprise Holdings, Inc. Political Action Committee',\n",
       "  'org_phone': '(314) 512-5000'},\n",
       " {'org_address': '201 N CENTRAL AVE, FL 27, PHOENIX, AZ 85004 ',\n",
       "  'org_begin_date': '12/21/2013',\n",
       "  'org_end_date': '12/20/2017',\n",
       "  'org_id': '1140',\n",
       "  'org_name': 'GREATER PHOENIX CHAMBER OF COMMERCE POLITICAL ACTION COMMITTEE',\n",
       "  'org_phone': '(602) 495-6474'},\n",
       " {'org_address': '7740 N 16TH ST, STE 385, PHOENIX, AZ 85020 ',\n",
       "  'org_begin_date': '05/15/2013',\n",
       "  'org_end_date': '05/14/2015',\n",
       "  'org_id': '1452',\n",
       "  'org_name': 'HOME BUILDERS ASSN OF CENTRAL AZ POLITICAL ACTION COMMITTEE',\n",
       "  'org_phone': '(602) 274-6545'},\n",
       " {'org_address': '101 CONSTITUTION AVE. NW, SUITE 500 WEST, WASHINGTON, DC 20001 ',\n",
       "  'org_begin_date': '01/03/2014',\n",
       "  'org_end_date': '01/02/2018',\n",
       "  'org_id': '201000325',\n",
       "  'org_name': 'Honeywell International Political Action Committee Arizona-(HIPAC AZ)',\n",
       "  'org_phone': '(202) 662-2644'},\n",
       " {'org_address': '601 PENNSYLVANIA AVE NW, FL 7, WASHINGTON, DC 20004 ',\n",
       "  'org_begin_date': '02/10/2014',\n",
       "  'org_end_date': '02/09/2018',\n",
       "  'org_id': '1233',\n",
       "  'org_name': 'JPMORGAN CHASE & CO ARIZONA PAC',\n",
       "  'org_phone': '(202) 585-3750'},\n",
       " {'org_address': '345 E PALM LN, PHOENIX, AZ 85004 ',\n",
       "  'org_begin_date': '04/03/2014',\n",
       "  'org_end_date': '04/02/2018',\n",
       "  'org_id': '1663',\n",
       "  'org_name': 'PARADISE VALLEY FUND FOR CHILDREN IN PUBLIC EDUCATION (PV ED & SUPPORT EMPL ASSN PAC)',\n",
       "  'org_phone': '(602) 407-2380'},\n",
       " {'org_address': 'C/O BOB EKSTROM, 801 PENNSYLVANIA AVE NW, SUITE 214, WASHINGTON, DC 20004 ',\n",
       "  'org_begin_date': '02/25/2014',\n",
       "  'org_end_date': '02/24/2018',\n",
       "  'org_id': '1016',\n",
       "  'org_name': 'PINNACLE WEST CAPITAL CORPORATION POLITICAL ACTION COMMITTEE',\n",
       "  'org_phone': '(202) 293-2655'},\n",
       " {'org_address': '255 E OSBORN RD, STE 200, PHOENIX, AZ 85012 ',\n",
       "  'org_begin_date': '09/23/2013',\n",
       "  'org_end_date': '09/22/2017',\n",
       "  'org_id': '1155',\n",
       "  'org_name': 'REALTORS OF AZ PAC (RAPAC)',\n",
       "  'org_phone': '(602) 248-7787'},\n",
       " {'org_address': 'CORPORATE TAXES,  ISB336  PO BOX 52025, PHOENIX, AZ 85207 ',\n",
       "  'org_begin_date': '01/07/2014',\n",
       "  'org_end_date': '01/06/2018',\n",
       "  'org_id': '1206',\n",
       "  'org_name': 'SALT RIVER VALLEY WATER USERS ASSN POLITICAL INVOLVEMENT COMMITTEE',\n",
       "  'org_phone': '(602) 236-2070'},\n",
       " {'org_address': '5651 N 7TH ST, PHOENIX, AZ 85014 ',\n",
       "  'org_begin_date': '06/09/2014',\n",
       "  'org_end_date': '06/08/2018',\n",
       "  'org_id': '201200346',\n",
       "  'org_name': 'The Political Committee of Planned Parenthood Advocates of Arizona',\n",
       "  'org_phone': '(602) 263-4215'},\n",
       " {'org_address': '275 SEVENTH AVENUE, 11TH FLOOR, NEW YORK, NY 10001 ',\n",
       "  'org_begin_date': '07/16/2013',\n",
       "  'org_end_date': '07/15/2015',\n",
       "  'org_id': '200802906',\n",
       "  'org_name': 'UNITE HERE TIP CAMPAIGN COMMITTEE',\n",
       "  'org_phone': '(212) 265-7000'},\n",
       " {'org_address': '1775 K ST NW, WASHINGTON, DC 20006 ',\n",
       "  'org_begin_date': '04/09/2014',\n",
       "  'org_end_date': '04/08/2018',\n",
       "  'org_id': '1797',\n",
       "  'org_name': 'UNITED FOOD & COMMERCIAL WORKERS ACTIVE BALLOT CLUB (UFCW)',\n",
       "  'org_phone': '(202) 223-3111'},\n",
       " {'org_address': '2401 N CENTRAL AVE, PHOENIX, AZ 85004 ',\n",
       "  'org_begin_date': '10/03/2013',\n",
       "  'org_end_date': '10/02/2017',\n",
       "  'org_id': '2083',\n",
       "  'org_name': 'UNITED FOOD & COMMERCIAL WORKERS UNION OF AZ LOCAL 99',\n",
       "  'org_phone': '(602) 626-8805'},\n",
       " {'org_address': '9800 FREDERICKSBURG RD, SAN ANTONIO, TX 78288 ',\n",
       "  'org_begin_date': '02/22/2015',\n",
       "  'org_end_date': '02/21/2019',\n",
       "  'org_id': '200402535',\n",
       "  'org_name': 'United Services Automobile Assn Employee PAC',\n",
       "  'org_phone': '(210) 498-0736'}]"
      ]
     },
     "execution_count": 87,
     "metadata": {},
     "output_type": "execute_result"
    }
   ],
   "source": [
    "results"
   ]
  },
  {
   "cell_type": "markdown",
   "metadata": {},
   "source": [
    "## Adding to the DisclosureScraper object"
   ]
  },
  {
   "cell_type": "markdown",
   "metadata": {},
   "source": [
    "After we think that we're able to scrape the data we want, we should add the code to our scraper object.\n",
    "\n",
    "```\n",
    "class ArizonaDisclosureScraper(Scraper):\n",
    "\n",
    "    def scrape_super_pacs(self):\n",
    "    \n",
    "        def find_the_table(html_document):\n",
    "            return d.xpath('//*[@id=\"ctl00_ctl00_MainPanel\"]/table')[0]\n",
    "    \n",
    "        def separate_name_and_address(cell):\n",
    "            name = cell.text\n",
    "            address = ', '.join([br.tail for br in cell.xpath('br')])\n",
    "            return name, address\n",
    "    \n",
    "        def scrape_table(table_element):\n",
    "            scraped_rows = []\n",
    "            for row in table_element.xpath('tbody/tr'):\n",
    "                _data = {}\n",
    "                columns = row.xpath('td')\n",
    "                if len(columns) == 5:\n",
    "                    _data['org_id'] = columns[0].text_content()\n",
    "                    _name, _address = separate_name_and_address(columns[1])\n",
    "                    _data['org_name'] = _name\n",
    "                    _data['org_address'] = _address\n",
    "                    _data['org_phone'] = columns[2].text_content()\n",
    "                    _data['org_begin_date'] = columns[3].text_content()\n",
    "                    _data['org_end_date'] = columns[4].text_content()\n",
    "                    scraped_rows.append(_data)\n",
    "            return scraped_rows\n",
    "            \n",
    "        PAC_LIST_URL = \"http://apps.azsos.gov/apps/election/cfs/search/SuperPACList.aspx\"\n",
    "        \n",
    "        resp = self.urlretrieve(PAC_LIST_URL)\n",
    "        \n",
    "        html_document = etree.fromstring(resp, parser=HTMLParser())\n",
    "        \n",
    "        target_table = find_the_table(html_document)\n",
    "        \n",
    "        results = scrape_the_table(target_table)\n",
    "\n",
    "    def scrape(self):                      \n",
    "        # needs to be implemented          \n",
    "        yield from self.scrape_super_pacs()\n",
    "```"
   ]
  },
  {
   "cell_type": "markdown",
   "metadata": {},
   "source": [
    "## Use scraped data to build Open Civic Data objects"
   ]
  },
  {
   "cell_type": "markdown",
   "metadata": {},
   "source": [
    "Let's look at how we can use the PAC data we scraped to build an `Organization` object."
   ]
  },
  {
   "cell_type": "code",
   "execution_count": 101,
   "metadata": {
    "collapsed": false
   },
   "outputs": [
    {
     "data": {
      "text/plain": [
       "{'org_address': '345 E PALM LN, PHOENIX, AZ 85004 ',\n",
       " 'org_begin_date': '06/09/2014',\n",
       " 'org_end_date': '06/08/2018',\n",
       " 'org_id': '1066',\n",
       " 'org_name': 'AEA FUND FOR PUBLIC EDUCATION (FORMERLY) AZ PAC (AZ EDUCATION ASSN PAC)',\n",
       " 'org_phone': '(602) 264-1774'}"
      ]
     },
     "execution_count": 101,
     "metadata": {},
     "output_type": "execute_result"
    }
   ],
   "source": [
    "result = results[0]\n",
    "\n",
    "result"
   ]
  },
  {
   "cell_type": "markdown",
   "metadata": {},
   "source": [
    "If we import the `Organization` scraper model, this becomes very easy:"
   ]
  },
  {
   "cell_type": "code",
   "execution_count": 102,
   "metadata": {
    "collapsed": true
   },
   "outputs": [],
   "source": [
    "from pupa.scrape.popolo import Organization"
   ]
  },
  {
   "cell_type": "code",
   "execution_count": 103,
   "metadata": {
    "collapsed": true
   },
   "outputs": [],
   "source": [
    "my_org = Organization(\n",
    "    name=result['org_name'],\n",
    "    classification='political action committee',\n",
    "    founding_date=result['org_begin_date'],\n",
    "    dissolution_date=result['org_end_date']\n",
    ")"
   ]
  },
  {
   "cell_type": "markdown",
   "metadata": {},
   "source": [
    "That's actually more information than we needed. Only the `name` and `classification` properties were required.\n",
    "\n",
    "To add other information, like contact details and identifiers, we can use special helper functions that come with the `Organization` class:"
   ]
  },
  {
   "cell_type": "code",
   "execution_count": 105,
   "metadata": {
    "collapsed": true
   },
   "outputs": [],
   "source": [
    "my_org.add_identifier(\n",
    "    identifier=result['org_id'],\n",
    "    scheme='urn:az-state:committee'\n",
    "    )"
   ]
  },
  {
   "cell_type": "code",
   "execution_count": 107,
   "metadata": {
    "collapsed": true
   },
   "outputs": [],
   "source": [
    "my_org.add_contact_detail(\n",
    "    type='address',\n",
    "    value=result['org_address']\n",
    ")"
   ]
  },
  {
   "cell_type": "code",
   "execution_count": 109,
   "metadata": {
    "collapsed": false
   },
   "outputs": [],
   "source": [
    "my_org.add_contact_detail(\n",
    "    type='voice',\n",
    "    value=result['org_phone']\n",
    ")"
   ]
  },
  {
   "cell_type": "markdown",
   "metadata": {},
   "source": [
    "To see your organization as a `dict`, use the `as_dict` method:"
   ]
  },
  {
   "cell_type": "code",
   "execution_count": 111,
   "metadata": {
    "collapsed": false
   },
   "outputs": [
    {
     "data": {
      "text/plain": [
       "{'_id': '102e7fde-e24a-11e4-a4f5-e90fe0697b56',\n",
       " 'classification': 'political action committee',\n",
       " 'contact_details': [{'note': '',\n",
       "   'type': 'address',\n",
       "   'value': '345 E PALM LN, PHOENIX, AZ 85004 '},\n",
       "  {'note': '', 'type': 'voice', 'value': '(602) 264-1774'}],\n",
       " 'dissolution_date': '06/08/2018',\n",
       " 'extras': {},\n",
       " 'founding_date': '06/09/2014',\n",
       " 'identifiers': [{'identifier': '1066', 'scheme': 'urn:az-state:committee'}],\n",
       " 'image': '',\n",
       " 'links': [],\n",
       " 'name': 'AEA FUND FOR PUBLIC EDUCATION (FORMERLY) AZ PAC (AZ EDUCATION ASSN PAC)',\n",
       " 'other_names': [],\n",
       " 'parent_id': None,\n",
       " 'source_identified': False,\n",
       " 'sources': []}"
      ]
     },
     "execution_count": 111,
     "metadata": {},
     "output_type": "execute_result"
    }
   ],
   "source": [
    "my_org.as_dict()"
   ]
  },
  {
   "cell_type": "markdown",
   "metadata": {},
   "source": [
    "Ah! That reminds me: We have to be sure to do two things to all `Person` and `Organization` objects returned by our scraper.\n",
    "\n",
    "First, Make sure `source_identified` is `True`"
   ]
  },
  {
   "cell_type": "code",
   "execution_count": 112,
   "metadata": {
    "collapsed": true
   },
   "outputs": [],
   "source": [
    "my_org.source_identified = True"
   ]
  },
  {
   "cell_type": "markdown",
   "metadata": {},
   "source": [
    "Next, make sure you include the source (ie, the URL that you found the organization at)"
   ]
  },
  {
   "cell_type": "code",
   "execution_count": 114,
   "metadata": {
    "collapsed": true
   },
   "outputs": [],
   "source": [
    "my_org.add_source(url=PAC_LIST_URL)"
   ]
  },
  {
   "cell_type": "markdown",
   "metadata": {},
   "source": [
    "## Yielding your new objects"
   ]
  },
  {
   "cell_type": "markdown",
   "metadata": {},
   "source": [
    "Adding the new code to our scraper:\n",
    "\n",
    "```\n",
    "class ArizonaDisclosureScraper(Scraper):\n",
    "\n",
    "    def scrape_super_pacs(self):\n",
    "\n",
    "        def find_the_table(html_document):\n",
    "            return d.xpath('//*[@id=\"ctl00_ctl00_MainPanel\"]/table')[0]\n",
    "\n",
    "        def separate_name_and_address(cell):\n",
    "            name = cell.text\n",
    "            address = ', '.join([br.tail for br in cell.xpath('br')])\n",
    "            return name, address\n",
    "\n",
    "        def scrape_table(table_element):\n",
    "            scraped_rows = []\n",
    "            for row in table_element.xpath('tbody/tr'):\n",
    "                _data = {}\n",
    "                columns = row.xpath('td')\n",
    "                if len(columns) == 5:\n",
    "                    _data['org_id'] = columns[0].text_content()\n",
    "                    _name, _address = separate_name_and_address(columns[1])\n",
    "                    _data['org_name'] = _name\n",
    "                    _data['org_address'] = _address\n",
    "                    _data['org_phone'] = columns[2].text_content()\n",
    "                    _data['org_begin_date'] = columns[3].text_content()\n",
    "                    _data['org_end_date'] = columns[4].text_content()\n",
    "                    scraped_rows.append(_data)\n",
    "            return scraped_rows\n",
    "\n",
    "        PAC_LIST_URL = \"http://apps.azsos.gov/apps/election/cfs/search/SuperPACList.aspx\"\n",
    "\n",
    "        resp = self.urlretrieve(PAC_LIST_URL)\n",
    "\n",
    "        html_document = etree.fromstring(resp, parser=HTMLParser())\n",
    "\n",
    "        target_table = find_the_table(html_document)\n",
    "\n",
    "        results = scrape_the_table(target_table)\n",
    "        \n",
    "        for result in results:\n",
    "            _org = Organization(\n",
    "                name=result['org_name'],\n",
    "                classification='political action committee',\n",
    "                founding_date=result['org_begin_date'],\n",
    "                dissolution_date=result['org_end_date']\n",
    "            )\n",
    "            \n",
    "            _org.add_identifier(\n",
    "                identifier=result['org_id'],\n",
    "                scheme='urn:az-state:committee'\n",
    "            )\n",
    "            \n",
    "            _org.add_contact_detail(\n",
    "                type='address',\n",
    "                value=result['org_address']\n",
    "            )\n",
    "            \n",
    "            _org.add_contact_detail(\n",
    "                type='voice',\n",
    "                value=result['org_phone']\n",
    "            )\n",
    "            \n",
    "            _org.add_source(url=PAC_LIST_URL)\n",
    "            \n",
    "            _org.source_identified = True\n",
    "            \n",
    "            yield _org\n",
    "            \n",
    "\n",
    "    def scrape(self):                      \n",
    "        # needs to be implemented          \n",
    "        yield from self.scrape_super_pacs()\n",
    "```"
   ]
  },
  {
   "cell_type": "markdown",
   "metadata": {},
   "source": [
    "## Finished! "
   ]
  },
  {
   "cell_type": "markdown",
   "metadata": {},
   "source": [
    "You don't need to worry about anything after this point. After doing the hard work of writing your scraper code, you can hand off the rest (validation, database storage, deduplication) to the `pupa` framework.  "
   ]
  },
  {
   "cell_type": "code",
   "execution_count": null,
   "metadata": {
    "collapsed": true
   },
   "outputs": [],
   "source": []
  }
 ],
 "metadata": {
  "kernelspec": {
   "display_name": "Python 3",
   "language": "python",
   "name": "python3"
  },
  "language_info": {
   "codemirror_mode": {
    "name": "ipython",
    "version": 3
   },
   "file_extension": ".py",
   "mimetype": "text/x-python",
   "name": "python",
   "nbconvert_exporter": "python",
   "pygments_lexer": "ipython3",
   "version": "3.4.2"
  }
 },
 "nbformat": 4,
 "nbformat_minor": 0
}
